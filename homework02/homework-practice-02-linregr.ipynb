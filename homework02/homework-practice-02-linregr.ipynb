{
 "cells": [
  {
   "cell_type": "markdown",
   "metadata": {},
   "source": [
    "# Домашнее задание 2 - предобработка признаков, pandas\n",
    "\n",
    "\n",
    "### О задании\n",
    "\n",
    "Практическое задание 2 посвящено изучению основных библиотек для анализа данных, а также линейных моделей и методов их обучения. Вы научитесь:\n",
    " * применять библиотеки NumPy и Pandas для осуществления желаемых преобразований;\n",
    " * подготавливать данные для обучения линейных моделей;\n",
    " * обучать линейную, Lasso и Ridge-регрессии при помощи модуля scikit-learn;\n",
    " * реализовывать обычный и стохастический градиентные спуски;\n",
    " * обучать линейную регрессию для произвольного функционала качества.\n",
    " \n",
    "\n",
    "### Оценивание и штрафы\n",
    "\n",
    "Каждая из задач имеет определенную «стоимость» (указана в скобках около задачи). Максимально допустимая оценка за работу — 10 баллов. Кроме того, некоторые из заданий являются опциональными (необязательными), однако за их выполнение можно получить дополнительные баллы, которые позднее будут учитываться при проставлении оценок автоматом по курсу.\n",
    "\n",
    "Сдавать задание после указанного срока сдачи нельзя. При выставлении неполного балла за задание в связи с наличием ошибок на усмотрение проверяющего предусмотрена возможность исправить работу на указанных в ответном письме условиях.\n",
    "\n",
    "Задание выполняется самостоятельно. «Похожие» решения считаются плагиатом и все задействованные студенты (в том числе те, у кого списали) не могут получить за него больше 0 баллов. Если вы нашли решение какого-то из заданий (или его часть) в открытом источнике, необходимо указать ссылку на этот источник в отдельном блоке в конце Вашей работы (скорее всего вы будете не единственным, кто это нашел, поэтому чтобы исключить подозрение в плагиате, необходима ссылка на источник). \n",
    "\n",
    "Неэффективная реализация кода может негативно отразиться на оценке.\n",
    "\n",
    "\n",
    "### Формат сдачи\n",
    "Для сдачи задания получившийся файл \\*.ipynb с решением необходимо выложить в свой репозиторий github."
   ]
  },
  {
   "cell_type": "markdown",
   "metadata": {},
   "source": [
    "## Библиотеки для анализа данных\n",
    "\n",
    "### NumPy\n",
    "\n",
    "Во всех заданиях данного раздела запрещено использовать циклы  и list comprehensions. Под вектором и матрицей в данных заданиях понимается одномерный и двумерный numpy.array соответственно."
   ]
  },
  {
   "cell_type": "code",
   "execution_count": 1,
   "metadata": {},
   "outputs": [],
   "source": [
    "import numpy as np"
   ]
  },
  {
   "cell_type": "markdown",
   "metadata": {},
   "source": [
    "**1. (0.2 балла)** Реализуйте функцию, возвращающую максимальный элемент в векторе x среди элементов, перед которыми стоит нулевой. Для x = np.array([6, 2, 0, 3, 0, 0, 5, 7, 0]) ответом является 5. Если нулевых элементов нет, функция должна возвращать None.\n"
   ]
  },
  {
   "cell_type": "code",
   "execution_count": 3,
   "metadata": {},
   "outputs": [
    {
     "name": "stdout",
     "output_type": "stream",
     "text": [
      "5\n"
     ]
    }
   ],
   "source": [
    "def max_element(arr):\n",
    "    max_val = None\n",
    "    is_zero_before = False\n",
    "    \n",
    "    for elem in arr:\n",
    "        if is_zero_before and (max_val is None or elem > max_val):\n",
    "            max_val = elem\n",
    "        \n",
    "        is_zero_before = (elem == 0)\n",
    "    \n",
    "    return max_val\n",
    "\n",
    "arr = np.array([6, 2, 0, 3, 0, 0, 5, 7, 0])\n",
    "result = max_element(arr)\n",
    "print(result) "
   ]
  },
  {
   "cell_type": "markdown",
   "metadata": {},
   "source": [
    "**2. (0.2 балла)** Реализуйте функцию, принимающую на вход матрицу и некоторое число и возвращающую ближайший к числу элемент матрицы. Например: для X = np.arange(0,10).reshape((2, 5)) и v = 3.6 ответом будет 4."
   ]
  },
  {
   "cell_type": "code",
   "execution_count": 6,
   "metadata": {},
   "outputs": [
    {
     "name": "stdout",
     "output_type": "stream",
     "text": [
      "4\n"
     ]
    }
   ],
   "source": [
    "def nearest_value(matrix, number):\n",
    "    flat_matrix = matrix.flatten()  # Flatten the matrix to a 1D array\n",
    "    closest_element = min(flat_matrix, key=lambda x: abs(x - number))\n",
    "    return closest_element\n",
    "\n",
    "X = np.arange(0, 10).reshape((2, 5))\n",
    "v = 3.6\n",
    "result = nearest_value(X, v)\n",
    "print(result) "
   ]
  },
  {
   "cell_type": "markdown",
   "metadata": {},
   "source": [
    "**3. (0.2 балла)** Реализуйте функцию scale(X), которая принимает на вход матрицу и масштабирует каждый ее столбец (вычитает выборочное среднее и делит на стандартное отклонение). Убедитесь, что в функции не будет происходить деления на ноль. Протестируйте на случайной матрице (для её генерации можно использовать, например, функцию [numpy.random.randint](http://docs.scipy.org/doc/numpy/reference/generated/numpy.random.randint.html))."
   ]
  },
  {
   "cell_type": "code",
   "execution_count": 7,
   "metadata": {},
   "outputs": [
    {
     "name": "stdout",
     "output_type": "stream",
     "text": [
      "Original Matrix:\n",
      "[[2 8 5 4]\n",
      " [5 6 8 9]\n",
      " [7 5 4 7]]\n",
      "Scaled Matrix:\n",
      "[[-1.29777137  1.33630621 -0.39223227 -1.29777137]\n",
      " [ 0.16222142 -0.26726124  1.37281295  1.13554995]\n",
      " [ 1.13554995 -1.06904497 -0.98058068  0.16222142]]\n"
     ]
    }
   ],
   "source": [
    "def scale(X):\n",
    "    # Calculate the mean and standard deviation of each column\n",
    "    column_means = np.mean(X, axis=0)\n",
    "    column_stds = np.std(X, axis=0)\n",
    "    \n",
    "    # Replace standard deviations of zero with 1 to avoid division by zero\n",
    "    column_stds[column_stds == 0] = 1\n",
    "    \n",
    "    # Scale each column\n",
    "    scaled_X = (X - column_means) / column_stds\n",
    "    \n",
    "    return scaled_X\n",
    "\n",
    "# Generate a random matrix for testing\n",
    "random_matrix = np.random.randint(1, 10, (3, 4))\n",
    "\n",
    "# Test the scale function\n",
    "scaled_matrix = scale(random_matrix)\n",
    "print(\"Original Matrix:\")\n",
    "print(random_matrix)\n",
    "print(\"Scaled Matrix:\")\n",
    "print(scaled_matrix)"
   ]
  },
  {
   "cell_type": "markdown",
   "metadata": {},
   "source": [
    "**4. (0.2 балла)** Реализуйте функцию, которая для заданной матрицы находит:\n",
    " - определитель\n",
    " - след\n",
    " - наименьший и наибольший элементы\n",
    " - норму Фробениуса\n",
    " - собственные числа\n",
    " - обратную матрицу\n",
    "\n",
    "Для тестирования сгенерируйте матрицу с элементами из нормального распределения $\\mathcal{N}$(10,1)"
   ]
  },
  {
   "cell_type": "code",
   "execution_count": 9,
   "metadata": {},
   "outputs": [
    {
     "name": "stdout",
     "output_type": "stream",
     "text": [
      "Determinant:\n",
      "11.114083777967892\n",
      "Trace:\n",
      "28.404241091479694\n",
      "Minimum Element:\n",
      "8.020932189970368\n",
      "Maximum Element:\n",
      "10.930520374047708\n",
      "Frobenius Norm:\n",
      "28.79898353544207\n",
      "Eigenvalues:\n",
      "[28.68733821+0.j         -0.14154856+0.60612312j -0.14154856-0.60612312j]\n",
      "Inverse Matrix:\n",
      "[[ 0.53800207 -0.68127695  0.27885247]\n",
      " [ 2.44757185 -1.51849017 -0.51429164]\n",
      " [-2.97775705  2.24365103  0.28462493]]\n"
     ]
    }
   ],
   "source": [
    "def get_stats(matrix):\n",
    "     # Determinant\n",
    "    det = np.linalg.det(matrix)\n",
    "\n",
    "    # Trace\n",
    "    trace = np.trace(matrix)\n",
    "\n",
    "    # Minimum and Maximum elements\n",
    "    min_elem = np.min(matrix)\n",
    "    max_elem = np.max(matrix)\n",
    "\n",
    "    # Frobenius Norm\n",
    "    frobenius_norm = np.linalg.norm(matrix, 'fro')\n",
    "\n",
    "    # Eigenvalues\n",
    "    eigenvalues = np.linalg.eigvals(matrix)\n",
    "\n",
    "    # Inverse Matrix\n",
    "    try:\n",
    "        inverse_matrix = np.linalg.inv(matrix)\n",
    "    except np.linalg.LinAlgError:\n",
    "        inverse_matrix = None\n",
    "\n",
    "    return {\n",
    "        \"Determinant\": det,\n",
    "        \"Trace\": trace,\n",
    "        \"Minimum Element\": min_elem,\n",
    "        \"Maximum Element\": max_elem,\n",
    "        \"Frobenius Norm\": frobenius_norm,\n",
    "        \"Eigenvalues\": eigenvalues,\n",
    "        \"Inverse Matrix\": inverse_matrix\n",
    "    }\n",
    "\n",
    "# Generate a matrix with elements from a normal distribution with mean 10 and std deviation 1\n",
    "mean = 10\n",
    "std_dev = 1\n",
    "random_matrix = np.random.normal(mean, std_dev, (3, 3))\n",
    "\n",
    "# Calculate matrix properties\n",
    "properties = get_stats(random_matrix)\n",
    "\n",
    "# Print the results\n",
    "for prop, value in properties.items():\n",
    "    print(f\"{prop}:\")\n",
    "    print(value)"
   ]
  },
  {
   "cell_type": "markdown",
   "metadata": {},
   "source": [
    "**5. (0.2 балла)** Повторите 100 раз следующий эксперимент: сгенерируйте две матрицы размера 10×10 из стандартного нормального распределения, перемножьте их (как матрицы) и найдите максимальный элемент. Какое среднее значение по экспериментам у максимальных элементов? 95-процентная квантиль?"
   ]
  },
  {
   "cell_type": "code",
   "execution_count": 11,
   "metadata": {},
   "outputs": [
    {
     "name": "stdout",
     "output_type": "stream",
     "text": [
      "Mean of maximum elements: 8.426303758747236\n",
      "95th percentile of maximum elements: 11.81853182527403\n"
     ]
    }
   ],
   "source": [
    "max_elements = []\n",
    "for exp_num in range(100):\n",
    "    # Generate two 10x10 matrices with elements from standard normal distribution\n",
    "    matrix1 = np.random.normal(0, 1, (10, 10))\n",
    "    matrix2 = np.random.normal(0, 1, (10, 10))\n",
    "    \n",
    "    # Multiply the matrices\n",
    "    result_matrix = np.dot(matrix1, matrix2)\n",
    "    \n",
    "    # Find the maximum element in the result matrix\n",
    "    max_element = np.max(result_matrix)\n",
    "    \n",
    "    # Store the maximum element in the list\n",
    "    max_elements.append(max_element)\n",
    "\n",
    "# Calculate the mean and 95th percentile of the maximum elements\n",
    "mean_max_element = np.mean(max_elements)\n",
    "percentile_95 = np.percentile(max_elements, 95)\n",
    "\n",
    "print(f\"Mean of maximum elements: {mean_max_element}\")\n",
    "print(f\"95th percentile of maximum elements: {percentile_95}\")"
   ]
  },
  {
   "cell_type": "markdown",
   "metadata": {},
   "source": [
    "### Pandas\n",
    "\n",
    "![](https://metrouk2.files.wordpress.com/2015/10/panda.jpg)\n",
    "\n",
    "#### Ответьте на вопросы о данных по авиарейсам в США за январь-апрель 2008 года.\n",
    "\n",
    "Данные находятся в приложенном файле `2008.csv`. Их [описание](http://stat-computing.org/dataexpo/2009/the-data.html) приведено ниже:"
   ]
  },
  {
   "cell_type": "markdown",
   "metadata": {},
   "source": [
    "Airline on-time performance\n",
    "\n",
    "Have you ever been stuck in an airport because your flight was delayed or cancelled and wondered if you could have predicted it if you'd had more data? This is your chance to find out.\n",
    "\n",
    "The data\n",
    "The data set is available for download here.\n",
    "The data consists of flight arrival and departure details for all commercial flights within the USA, from October 1987 to April 2008. This is a large dataset: there are nearly 120 million records in total, and takes up 1.6 gigabytes of space compressed and 12 gigabytes when uncompressed.\n",
    "\n",
    "Understanding and preparing the data\n",
    "In order to answer above questions, we are going to analyze the provided dataset, containing up to 1936758 ### different internal flights in the US for 2008 and their causes for delay, diversion and cancellation\n",
    "\n",
    "The data comes from the U.S. Department of Transportation’s (DOT) Bureau of Transportation Statistics (BTS). Meta data explanations\n",
    "\n",
    "This dataset is composed by the following variables:\n",
    "\n",
    "**Year** 2008 **Month** 1-12 **DayofMonth** 1-31 **DayOfWeek** 1 (Monday) - 7 (Sunday)  \n",
    "**DepTime** actual departure time (local, hhmm)  \n",
    "**CRSDepTime** scheduled departure time (local, hhmm)  \n",
    "**ArrTime** actual arrival time (local, hhmm)  \n",
    "**CRSArrTime** scheduled arrival time (local, hhmm)  \n",
    "**UniqueCarrier** unique carrier code  \n",
    "**FlightNum** flight number  \n",
    "**TailNum** plane tail number: aircraft registration, unique aircraft identifier  \n",
    "**ActualElapsedTime** in minutes  \n",
    "**CRSElapsedTime** in minutes  \n",
    "**AirTime** in minutes  \n",
    "**ArrDelay** arrival delay, in minutes: A flight is counted as “on time” if it operated less than 15 minutes later the scheduled time shown in the carriers’ Computerized Reservations Systems (CRS).  \n",
    "**DepDelay** departure delay, in minutes  \n",
    "**Origin** origin IATA airport code  \n",
    "**Dest** destination IATA airport code  \n",
    "**Distance** in miles  \n",
    "**TaxiIn** taxi in time, in minutes  \n",
    "**TaxiOut** taxi out time in minutes  \n",
    "**Cancelled** *was the flight cancelled  \n",
    "**CancellationCode** reason for cancellation (A = carrier, B = weather, C = NAS, D = security)  \n",
    "**Diverted** 1 = yes, 0 = no  \n",
    "**CarrierDelay** in minutes: Carrier delay is within the control of the air carrier. Examples of occurrences that may determine carrier delay are: aircraft cleaning, aircraft damage, awaiting the arrival of connecting passengers or crew, baggage, bird strike, cargo loading, catering, computer, outage-carrier equipment, crew legality (pilot or attendant rest), damage by hazardous goods, engineering inspection, fueling, handling disabled passengers, late crew, lavatory servicing, maintenance, oversales, potable water servicing, removal of unruly passenger, slow boarding or seating, stowing carry-on baggage, weight and balance delays.  \n",
    "**WeatherDelay** in minutes: Weather delay is caused by extreme or hazardous weather conditions that are forecasted or manifest themselves on point of departure, enroute, or on point of arrival.  \n",
    "**NASDelay** in minutes: Delay that is within the control of the National Airspace System (NAS) may include: non-extreme weather conditions, airport operations, heavy traffic volume, air traffic control, etc.  \n",
    "**SecurityDelay** in minutes: Security delay is caused by evacuation of a terminal or concourse, re-boarding of aircraft because of security breach, inoperative screening equipment and/or long lines in excess of 29 minutes at screening areas.  \n",
    "**LateAircraftDelay** in minutes: Arrival delay at an airport due to the late arrival of the same aircraft at a previous airport. The ripple effect of an earlier delay at downstream airports is referred to as delay propagation."
   ]
  },
  {
   "cell_type": "code",
   "execution_count": 1,
   "metadata": {},
   "outputs": [],
   "source": [
    "import pandas as pd\n",
    "%matplotlib inline"
   ]
  },
  {
   "cell_type": "code",
   "execution_count": 12,
   "metadata": {},
   "outputs": [
    {
     "data": {
      "text/html": [
       "<div>\n",
       "<style scoped>\n",
       "    .dataframe tbody tr th:only-of-type {\n",
       "        vertical-align: middle;\n",
       "    }\n",
       "\n",
       "    .dataframe tbody tr th {\n",
       "        vertical-align: top;\n",
       "    }\n",
       "\n",
       "    .dataframe thead th {\n",
       "        text-align: right;\n",
       "    }\n",
       "</style>\n",
       "<table border=\"1\" class=\"dataframe\">\n",
       "  <thead>\n",
       "    <tr style=\"text-align: right;\">\n",
       "      <th></th>\n",
       "      <th>Year</th>\n",
       "      <th>Month</th>\n",
       "      <th>DayofMonth</th>\n",
       "      <th>DayOfWeek</th>\n",
       "      <th>DepTime</th>\n",
       "      <th>CRSDepTime</th>\n",
       "      <th>ArrTime</th>\n",
       "      <th>CRSArrTime</th>\n",
       "      <th>UniqueCarrier</th>\n",
       "      <th>FlightNum</th>\n",
       "      <th>...</th>\n",
       "      <th>TaxiIn</th>\n",
       "      <th>TaxiOut</th>\n",
       "      <th>Cancelled</th>\n",
       "      <th>CancellationCode</th>\n",
       "      <th>Diverted</th>\n",
       "      <th>CarrierDelay</th>\n",
       "      <th>WeatherDelay</th>\n",
       "      <th>NASDelay</th>\n",
       "      <th>SecurityDelay</th>\n",
       "      <th>LateAircraftDelay</th>\n",
       "    </tr>\n",
       "  </thead>\n",
       "  <tbody>\n",
       "    <tr>\n",
       "      <th>0</th>\n",
       "      <td>2008</td>\n",
       "      <td>6</td>\n",
       "      <td>18</td>\n",
       "      <td>3</td>\n",
       "      <td>2111.0</td>\n",
       "      <td>2055</td>\n",
       "      <td>2308.0</td>\n",
       "      <td>2300</td>\n",
       "      <td>WN</td>\n",
       "      <td>242</td>\n",
       "      <td>...</td>\n",
       "      <td>3.0</td>\n",
       "      <td>8.0</td>\n",
       "      <td>0</td>\n",
       "      <td>NaN</td>\n",
       "      <td>0</td>\n",
       "      <td>NaN</td>\n",
       "      <td>NaN</td>\n",
       "      <td>NaN</td>\n",
       "      <td>NaN</td>\n",
       "      <td>NaN</td>\n",
       "    </tr>\n",
       "    <tr>\n",
       "      <th>1</th>\n",
       "      <td>2008</td>\n",
       "      <td>6</td>\n",
       "      <td>4</td>\n",
       "      <td>3</td>\n",
       "      <td>1426.0</td>\n",
       "      <td>1410</td>\n",
       "      <td>1730.0</td>\n",
       "      <td>1728</td>\n",
       "      <td>XE</td>\n",
       "      <td>2380</td>\n",
       "      <td>...</td>\n",
       "      <td>4.0</td>\n",
       "      <td>12.0</td>\n",
       "      <td>0</td>\n",
       "      <td>NaN</td>\n",
       "      <td>0</td>\n",
       "      <td>NaN</td>\n",
       "      <td>NaN</td>\n",
       "      <td>NaN</td>\n",
       "      <td>NaN</td>\n",
       "      <td>NaN</td>\n",
       "    </tr>\n",
       "    <tr>\n",
       "      <th>2</th>\n",
       "      <td>2008</td>\n",
       "      <td>8</td>\n",
       "      <td>3</td>\n",
       "      <td>7</td>\n",
       "      <td>1143.0</td>\n",
       "      <td>1145</td>\n",
       "      <td>1501.0</td>\n",
       "      <td>1520</td>\n",
       "      <td>WN</td>\n",
       "      <td>1769</td>\n",
       "      <td>...</td>\n",
       "      <td>4.0</td>\n",
       "      <td>9.0</td>\n",
       "      <td>0</td>\n",
       "      <td>NaN</td>\n",
       "      <td>0</td>\n",
       "      <td>NaN</td>\n",
       "      <td>NaN</td>\n",
       "      <td>NaN</td>\n",
       "      <td>NaN</td>\n",
       "      <td>NaN</td>\n",
       "    </tr>\n",
       "    <tr>\n",
       "      <th>3</th>\n",
       "      <td>2008</td>\n",
       "      <td>1</td>\n",
       "      <td>23</td>\n",
       "      <td>3</td>\n",
       "      <td>1141.0</td>\n",
       "      <td>1144</td>\n",
       "      <td>1323.0</td>\n",
       "      <td>1335</td>\n",
       "      <td>OO</td>\n",
       "      <td>3802</td>\n",
       "      <td>...</td>\n",
       "      <td>4.0</td>\n",
       "      <td>19.0</td>\n",
       "      <td>0</td>\n",
       "      <td>NaN</td>\n",
       "      <td>0</td>\n",
       "      <td>NaN</td>\n",
       "      <td>NaN</td>\n",
       "      <td>NaN</td>\n",
       "      <td>NaN</td>\n",
       "      <td>NaN</td>\n",
       "    </tr>\n",
       "    <tr>\n",
       "      <th>4</th>\n",
       "      <td>2008</td>\n",
       "      <td>5</td>\n",
       "      <td>4</td>\n",
       "      <td>7</td>\n",
       "      <td>815.0</td>\n",
       "      <td>820</td>\n",
       "      <td>1243.0</td>\n",
       "      <td>1300</td>\n",
       "      <td>WN</td>\n",
       "      <td>399</td>\n",
       "      <td>...</td>\n",
       "      <td>4.0</td>\n",
       "      <td>8.0</td>\n",
       "      <td>0</td>\n",
       "      <td>NaN</td>\n",
       "      <td>0</td>\n",
       "      <td>NaN</td>\n",
       "      <td>NaN</td>\n",
       "      <td>NaN</td>\n",
       "      <td>NaN</td>\n",
       "      <td>NaN</td>\n",
       "    </tr>\n",
       "    <tr>\n",
       "      <th>...</th>\n",
       "      <td>...</td>\n",
       "      <td>...</td>\n",
       "      <td>...</td>\n",
       "      <td>...</td>\n",
       "      <td>...</td>\n",
       "      <td>...</td>\n",
       "      <td>...</td>\n",
       "      <td>...</td>\n",
       "      <td>...</td>\n",
       "      <td>...</td>\n",
       "      <td>...</td>\n",
       "      <td>...</td>\n",
       "      <td>...</td>\n",
       "      <td>...</td>\n",
       "      <td>...</td>\n",
       "      <td>...</td>\n",
       "      <td>...</td>\n",
       "      <td>...</td>\n",
       "      <td>...</td>\n",
       "      <td>...</td>\n",
       "      <td>...</td>\n",
       "    </tr>\n",
       "    <tr>\n",
       "      <th>69995</th>\n",
       "      <td>2008</td>\n",
       "      <td>5</td>\n",
       "      <td>12</td>\n",
       "      <td>1</td>\n",
       "      <td>1829.0</td>\n",
       "      <td>1840</td>\n",
       "      <td>2137.0</td>\n",
       "      <td>2149</td>\n",
       "      <td>DL</td>\n",
       "      <td>794</td>\n",
       "      <td>...</td>\n",
       "      <td>22.0</td>\n",
       "      <td>20.0</td>\n",
       "      <td>0</td>\n",
       "      <td>NaN</td>\n",
       "      <td>0</td>\n",
       "      <td>NaN</td>\n",
       "      <td>NaN</td>\n",
       "      <td>NaN</td>\n",
       "      <td>NaN</td>\n",
       "      <td>NaN</td>\n",
       "    </tr>\n",
       "    <tr>\n",
       "      <th>69996</th>\n",
       "      <td>2008</td>\n",
       "      <td>5</td>\n",
       "      <td>11</td>\n",
       "      <td>7</td>\n",
       "      <td>1149.0</td>\n",
       "      <td>1125</td>\n",
       "      <td>1336.0</td>\n",
       "      <td>1314</td>\n",
       "      <td>OO</td>\n",
       "      <td>6159</td>\n",
       "      <td>...</td>\n",
       "      <td>4.0</td>\n",
       "      <td>13.0</td>\n",
       "      <td>0</td>\n",
       "      <td>NaN</td>\n",
       "      <td>0</td>\n",
       "      <td>0.0</td>\n",
       "      <td>0.0</td>\n",
       "      <td>0.0</td>\n",
       "      <td>0.0</td>\n",
       "      <td>22.0</td>\n",
       "    </tr>\n",
       "    <tr>\n",
       "      <th>69997</th>\n",
       "      <td>2008</td>\n",
       "      <td>9</td>\n",
       "      <td>24</td>\n",
       "      <td>3</td>\n",
       "      <td>1012.0</td>\n",
       "      <td>1012</td>\n",
       "      <td>1132.0</td>\n",
       "      <td>1132</td>\n",
       "      <td>YV</td>\n",
       "      <td>7058</td>\n",
       "      <td>...</td>\n",
       "      <td>7.0</td>\n",
       "      <td>10.0</td>\n",
       "      <td>0</td>\n",
       "      <td>NaN</td>\n",
       "      <td>0</td>\n",
       "      <td>NaN</td>\n",
       "      <td>NaN</td>\n",
       "      <td>NaN</td>\n",
       "      <td>NaN</td>\n",
       "      <td>NaN</td>\n",
       "    </tr>\n",
       "    <tr>\n",
       "      <th>69998</th>\n",
       "      <td>2008</td>\n",
       "      <td>2</td>\n",
       "      <td>18</td>\n",
       "      <td>1</td>\n",
       "      <td>1906.0</td>\n",
       "      <td>1900</td>\n",
       "      <td>2200.0</td>\n",
       "      <td>2139</td>\n",
       "      <td>NW</td>\n",
       "      <td>641</td>\n",
       "      <td>...</td>\n",
       "      <td>20.0</td>\n",
       "      <td>22.0</td>\n",
       "      <td>0</td>\n",
       "      <td>NaN</td>\n",
       "      <td>0</td>\n",
       "      <td>0.0</td>\n",
       "      <td>0.0</td>\n",
       "      <td>15.0</td>\n",
       "      <td>0.0</td>\n",
       "      <td>6.0</td>\n",
       "    </tr>\n",
       "    <tr>\n",
       "      <th>69999</th>\n",
       "      <td>2008</td>\n",
       "      <td>12</td>\n",
       "      <td>6</td>\n",
       "      <td>6</td>\n",
       "      <td>859.0</td>\n",
       "      <td>900</td>\n",
       "      <td>959.0</td>\n",
       "      <td>1005</td>\n",
       "      <td>WN</td>\n",
       "      <td>510</td>\n",
       "      <td>...</td>\n",
       "      <td>2.0</td>\n",
       "      <td>12.0</td>\n",
       "      <td>0</td>\n",
       "      <td>NaN</td>\n",
       "      <td>0</td>\n",
       "      <td>NaN</td>\n",
       "      <td>NaN</td>\n",
       "      <td>NaN</td>\n",
       "      <td>NaN</td>\n",
       "      <td>NaN</td>\n",
       "    </tr>\n",
       "  </tbody>\n",
       "</table>\n",
       "<p>70000 rows × 29 columns</p>\n",
       "</div>"
      ],
      "text/plain": [
       "       Year  Month  DayofMonth  DayOfWeek  DepTime  CRSDepTime  ArrTime  \\\n",
       "0      2008      6          18          3   2111.0        2055   2308.0   \n",
       "1      2008      6           4          3   1426.0        1410   1730.0   \n",
       "2      2008      8           3          7   1143.0        1145   1501.0   \n",
       "3      2008      1          23          3   1141.0        1144   1323.0   \n",
       "4      2008      5           4          7    815.0         820   1243.0   \n",
       "...     ...    ...         ...        ...      ...         ...      ...   \n",
       "69995  2008      5          12          1   1829.0        1840   2137.0   \n",
       "69996  2008      5          11          7   1149.0        1125   1336.0   \n",
       "69997  2008      9          24          3   1012.0        1012   1132.0   \n",
       "69998  2008      2          18          1   1906.0        1900   2200.0   \n",
       "69999  2008     12           6          6    859.0         900    959.0   \n",
       "\n",
       "       CRSArrTime UniqueCarrier  FlightNum  ... TaxiIn  TaxiOut  Cancelled  \\\n",
       "0            2300            WN        242  ...    3.0      8.0          0   \n",
       "1            1728            XE       2380  ...    4.0     12.0          0   \n",
       "2            1520            WN       1769  ...    4.0      9.0          0   \n",
       "3            1335            OO       3802  ...    4.0     19.0          0   \n",
       "4            1300            WN        399  ...    4.0      8.0          0   \n",
       "...           ...           ...        ...  ...    ...      ...        ...   \n",
       "69995        2149            DL        794  ...   22.0     20.0          0   \n",
       "69996        1314            OO       6159  ...    4.0     13.0          0   \n",
       "69997        1132            YV       7058  ...    7.0     10.0          0   \n",
       "69998        2139            NW        641  ...   20.0     22.0          0   \n",
       "69999        1005            WN        510  ...    2.0     12.0          0   \n",
       "\n",
       "       CancellationCode  Diverted  CarrierDelay WeatherDelay NASDelay  \\\n",
       "0                   NaN         0           NaN          NaN      NaN   \n",
       "1                   NaN         0           NaN          NaN      NaN   \n",
       "2                   NaN         0           NaN          NaN      NaN   \n",
       "3                   NaN         0           NaN          NaN      NaN   \n",
       "4                   NaN         0           NaN          NaN      NaN   \n",
       "...                 ...       ...           ...          ...      ...   \n",
       "69995               NaN         0           NaN          NaN      NaN   \n",
       "69996               NaN         0           0.0          0.0      0.0   \n",
       "69997               NaN         0           NaN          NaN      NaN   \n",
       "69998               NaN         0           0.0          0.0     15.0   \n",
       "69999               NaN         0           NaN          NaN      NaN   \n",
       "\n",
       "       SecurityDelay  LateAircraftDelay  \n",
       "0                NaN                NaN  \n",
       "1                NaN                NaN  \n",
       "2                NaN                NaN  \n",
       "3                NaN                NaN  \n",
       "4                NaN                NaN  \n",
       "...              ...                ...  \n",
       "69995            NaN                NaN  \n",
       "69996            0.0               22.0  \n",
       "69997            NaN                NaN  \n",
       "69998            0.0                6.0  \n",
       "69999            NaN                NaN  \n",
       "\n",
       "[70000 rows x 29 columns]"
      ]
     },
     "execution_count": 12,
     "metadata": {},
     "output_type": "execute_result"
    }
   ],
   "source": [
    "df = pd.read_csv('2008.csv')\n",
    "df"
   ]
  },
  {
   "cell_type": "markdown",
   "metadata": {},
   "source": [
    "**6. (0.3 балла)** Какая из причин отмены рейса (`CancellationCode`) была самой частой? (расшифровки кодов можно найти в описании данных)"
   ]
  },
  {
   "cell_type": "code",
   "execution_count": 13,
   "metadata": {},
   "outputs": [
    {
     "data": {
      "text/plain": [
       "'A'"
      ]
     },
     "execution_count": 13,
     "metadata": {},
     "output_type": "execute_result"
    }
   ],
   "source": [
    "# Count the occurrences of each cancellation code and store them in a dictionary\n",
    "cancellation_counts = df['CancellationCode'].value_counts().to_dict()\n",
    "\n",
    "# Find the cancellation code with the highest count\n",
    "most_common_cancellation = max(cancellation_counts, key=cancellation_counts.get)\n",
    "\n",
    "most_common_cancellation"
   ]
  },
  {
   "cell_type": "markdown",
   "metadata": {},
   "source": [
    "**7. (0.3 балла)** Найдите среднее, минимальное и максимальное расстояние, пройденное самолетом."
   ]
  },
  {
   "cell_type": "code",
   "execution_count": 6,
   "metadata": {},
   "outputs": [
    {
     "name": "stdout",
     "output_type": "stream",
     "text": [
      "Mean Distance Traveled: 724.5082571428571\n",
      "Minimum Distance Traveled: 31\n",
      "Maximum Distance Traveled: 4962\n"
     ]
    }
   ],
   "source": [
    "# Calculate the mean, minimum, and maximum distance\n",
    "mean_distance = df['Distance'].mean()\n",
    "min_distance = df['Distance'].min()\n",
    "max_distance = df['Distance'].max()\n",
    "\n",
    "# Print the results\n",
    "print(f\"Mean Distance Traveled: {mean_distance}\")\n",
    "print(f\"Minimum Distance Traveled: {min_distance}\")\n",
    "print(f\"Maximum Distance Traveled: {max_distance}\")"
   ]
  },
  {
   "cell_type": "markdown",
   "metadata": {},
   "source": [
    "**8. (0.3 балла)** Не выглядит ли подозрительным минимальное пройденное расстояние? В какие дни и на каких рейсах оно было? Какое расстояние было пройдено этими же рейсами в другие дни?"
   ]
  },
  {
   "cell_type": "code",
   "execution_count": 7,
   "metadata": {},
   "outputs": [
    {
     "name": "stdout",
     "output_type": "stream",
     "text": [
      "Suspiciously Low Minimum Distance: 31\n",
      "Flights with Minimum Distance:\n",
      "       Year  Month  DayofMonth  FlightNum\n",
      "1116   2008     12          30         65\n",
      "6958   2008     12          26         65\n",
      "17349  2008      8          18         64\n",
      "27534  2008      3          11         64\n",
      "46082  2008      8           9         65\n",
      "48112  2008      2          28         64\n",
      "Distances for the Same Flights on Other Days:\n",
      "       Year  Month  DayofMonth  FlightNum  Distance\n",
      "501    2008      3          20         64       533\n",
      "1389   2008      3          13         64       680\n",
      "1517   2008      7          10         65       680\n",
      "2619   2008      5          23         64      2381\n",
      "3869   2008      7           1         64        82\n",
      "...     ...    ...         ...        ...       ...\n",
      "66529  2008     12          21         65        82\n",
      "67172  2008      3          22         64       533\n",
      "68264  2008      9           7         65       386\n",
      "68338  2008      8           3         65      2454\n",
      "69305  2008      1           5         65      1005\n",
      "\n",
      "[72 rows x 5 columns]\n"
     ]
    }
   ],
   "source": [
    "# Find the minimum distance and its corresponding rows\n",
    "min_distance = df['Distance'].min()\n",
    "min_distance_rows = df[df['Distance'] == min_distance]\n",
    "\n",
    "# Print the details of flights with the minimum distance\n",
    "print(f\"Suspiciously Low Minimum Distance: {min_distance}\")\n",
    "print(\"Flights with Minimum Distance:\")\n",
    "print(min_distance_rows[['Year', 'Month', 'DayofMonth', 'FlightNum']])\n",
    "\n",
    "# Check the distances for the same flights on other days\n",
    "other_distances = df[(df['FlightNum'].isin(min_distance_rows['FlightNum'])) & (df['Distance'] != min_distance)]\n",
    "print(\"Distances for the Same Flights on Other Days:\")\n",
    "print(other_distances[['Year', 'Month', 'DayofMonth', 'FlightNum', 'Distance']])"
   ]
  },
  {
   "cell_type": "markdown",
   "metadata": {},
   "source": [
    "**9. (0.3 балла)** Из какого аэропорта было произведено больше всего вылетов? В каком городе он находится?"
   ]
  },
  {
   "cell_type": "code",
   "execution_count": 9,
   "metadata": {},
   "outputs": [
    {
     "name": "stdout",
     "output_type": "stream",
     "text": [
      "The airport with the most departures is ATL with 4134 departures.\n"
     ]
    }
   ],
   "source": [
    "# Count the occurrences of each departure airport code\n",
    "departure_counts = df['Origin'].value_counts()\n",
    "\n",
    "# Find the airport with the most departures\n",
    "most_common_airport_code = departure_counts.idxmax()\n",
    "most_common_airport_count = departure_counts.max()\n",
    "\n",
    "# Print the airport code and the number of departures\n",
    "print(f\"The airport with the most departures is {most_common_airport_code} with {most_common_airport_count} departures.\")"
   ]
  },
  {
   "cell_type": "markdown",
   "metadata": {},
   "source": [
    "**10. (0.3 балла)** Найдите для каждого аэропорта среднее время полета (`AirTime`) по всем вылетевшим из него рейсам. Какой аэропорт имеет наибольшее значение этого показателя?"
   ]
  },
  {
   "cell_type": "code",
   "execution_count": 10,
   "metadata": {},
   "outputs": [
    {
     "name": "stdout",
     "output_type": "stream",
     "text": [
      "The airport with the highest average AirTime is SJU with an average AirTime of 205.2 minutes.\n"
     ]
    }
   ],
   "source": [
    "# Group the data by departure airport (Origin) and calculate the mean AirTime for each group\n",
    "average_airtime_by_airport = df.groupby('Origin')['AirTime'].mean()\n",
    "\n",
    "# Find the airport with the highest average AirTime\n",
    "airport_with_highest_avg_airtime = average_airtime_by_airport.idxmax()\n",
    "highest_avg_airtime = average_airtime_by_airport.max()\n",
    "\n",
    "# Print the airport code and its average AirTime\n",
    "print(f\"The airport with the highest average AirTime is {airport_with_highest_avg_airtime} with an average AirTime of {highest_avg_airtime} minutes.\")"
   ]
  },
  {
   "cell_type": "markdown",
   "metadata": {},
   "source": [
    "**11. (0.5 балла)** Найдите аэропорт, у которого наибольшая доля задержанных (`DepDelay > 0`) рейсов. Исключите при этом из рассмотрения аэропорты, из которых было отправлено меньше 1000 рейсов (используйте функцию `filter` после `groupby`)."
   ]
  },
  {
   "cell_type": "code",
   "execution_count": 11,
   "metadata": {},
   "outputs": [
    {
     "name": "stdout",
     "output_type": "stream",
     "text": [
      "The airport with the highest proportion of delayed flights (with at least 1000 flights) is EWR with a proportion of 51.12%.\n"
     ]
    }
   ],
   "source": [
    "# Group the data by departure airport (Origin) and calculate counts\n",
    "airport_counts = df.groupby('Origin').size().reset_index(name='TotalFlights')\n",
    "delayed_counts = df[df['DepDelay'] > 0].groupby('Origin').size().reset_index(name='DelayedFlights')\n",
    "\n",
    "# Merge the counts\n",
    "merged_data = pd.merge(airport_counts, delayed_counts, on='Origin', how='inner')\n",
    "\n",
    "# Calculate the proportion of delayed flights\n",
    "merged_data['DelayedProportion'] = merged_data['DelayedFlights'] / merged_data['TotalFlights']\n",
    "\n",
    "# Exclude airports with fewer than 1000 flights\n",
    "filtered_data = merged_data[merged_data['TotalFlights'] >= 1000]\n",
    "\n",
    "# Find the airport with the highest proportion of delayed flights\n",
    "airport_with_highest_delayed_proportion = filtered_data['Origin'][filtered_data['DelayedProportion'].idxmax()]\n",
    "highest_delayed_proportion = filtered_data['DelayedProportion'].max()\n",
    "\n",
    "# Print the airport code and its proportion of delayed flights\n",
    "print(f\"The airport with the highest proportion of delayed flights (with at least 1000 flights) is {airport_with_highest_delayed_proportion} with a proportion of {highest_delayed_proportion:.2%}.\")"
   ]
  },
  {
   "cell_type": "markdown",
   "metadata": {},
   "source": [
    "## Линейная регрессия\n",
    "\n",
    "В этой части мы разберемся с линейной регрессией, способами её обучения и измерением качества ее прогнозов. \n",
    "\n",
    "Будем рассматривать датасет из предыдущей части задания для предсказания времени задержки отправления рейса в минутах (DepDelay). Отметим, что под задержкой подразумевается не только опоздание рейса относительно планируемого времени вылета, но и отправление до планируемого времени.\n",
    "\n",
    "### Подготовка данных\n",
    "\n",
    "**12. (0.5 балла)** Считайте выборку из файла при помощи функции pd.read_csv и ответьте на следующие вопросы:\n",
    "   - Имеются ли в данных пропущенные значения?\n",
    "   - Сколько всего пропущенных элементов в таблице \"объект-признак\"?\n",
    "   - Сколько объектов имеют хотя бы один пропуск?\n",
    "   - Сколько признаков имеют хотя бы одно пропущенное значение?"
   ]
  },
  {
   "cell_type": "code",
   "execution_count": 20,
   "metadata": {
    "scrolled": true
   },
   "outputs": [
    {
     "name": "stdout",
     "output_type": "stream",
     "text": [
      "1. Are there missing values in the data?\n",
      "   Yes, there are missing values in the data.\n",
      "2. How many total missing elements are there in the 'object-feature' table?\n",
      "   There are 355215 missing elements in the table.\n",
      "3. How many objects have at least one missing value?\n",
      "   70000 objects have at least one missing value.\n",
      "4. How many features have at least one missing value?\n",
      "   16 features have at least one missing value.\n"
     ]
    }
   ],
   "source": [
    "df = pd.read_csv('2008.csv')\n",
    "\n",
    "# Check for missing values\n",
    "missing_values = df.isnull().sum().sum()\n",
    "\n",
    "# Check how many objects have at least one missing value\n",
    "objects_with_missing = df.shape[0] - df.dropna().shape[0]\n",
    "\n",
    "# Check how many features have at least one missing value\n",
    "features_with_missing = df.shape[1] - df.dropna(axis=1).shape[1]\n",
    "\n",
    "# Print the results\n",
    "print(\"1. Are there missing values in the data?\")\n",
    "if missing_values > 0:\n",
    "    print(\"   Yes, there are missing values in the data.\")\n",
    "else:\n",
    "    print(\"   No, there are no missing values in the data.\")\n",
    "\n",
    "print(\"2. How many total missing elements are there in the 'object-feature' table?\")\n",
    "print(f\"   There are {missing_values} missing elements in the table.\")\n",
    "\n",
    "print(\"3. How many objects have at least one missing value?\")\n",
    "print(f\"   {objects_with_missing} objects have at least one missing value.\")\n",
    "\n",
    "print(\"4. How many features have at least one missing value?\")\n",
    "print(f\"   {features_with_missing} features have at least one missing value.\")"
   ]
  },
  {
   "cell_type": "markdown",
   "metadata": {},
   "source": [
    "Как вы понимаете, также не имеет смысла рассматривать при решении поставленной задачи объекты с пропущенным значением целевой переменной. В связи с этим ответьте на следующие вопросы и выполните соответствующие действия:\n",
    "- Имеются ли пропущенные значения в целевой переменной?\n",
    "- Проанализируйте объекты с пропущенными значениями целевой переменной. Чем вызвано это явление? Что их объединяет? Можно ли в связи с этим, на ваш взгляд, исключить какие-то признаки из рассмотрения? Обоснуйте свою точку зрения.\n",
    "\n",
    "Исключите из выборки объекты **с пропущенным значением целевой переменной и со значением целевой переменной, равным 0**, а также при необходимости исключите признаки в соответствии с вашим ответом на последний вопрос из списка и выделите целевую переменную в отдельный вектор, исключив её из матрицы \"объект-признак\"."
   ]
  },
  {
   "cell_type": "code",
   "execution_count": 21,
   "metadata": {},
   "outputs": [],
   "source": [
    "# Check for missing values in the target variable (DepDelay)\n",
    "missing_target = df['DepDelay'].isnull().sum()\n",
    "\n",
    "# Analyze objects with missing values in the target variable\n",
    "objects_with_missing_target = df[df['DepDelay'].isnull()]\n",
    "\n",
    "# Determine the reasons and commonalities for missing values in the target variable\n",
    "# You can analyze the objects_with_missing_target DataFrame to understand the reasons\n",
    "\n",
    "# Decide if any features should be excluded based on your analysis\n",
    "# If there are specific features that consistently have missing values for objects with missing target values,\n",
    "# you may consider excluding those features\n",
    "\n",
    "# Exclude objects with missing target values and target values equal to 0\n",
    "df = df.dropna(subset=['DepDelay']).loc[df['DepDelay'] != 0]\n",
    "\n",
    "# Separate the target variable (DepDelay) into a separate vector\n",
    "target = df['DepDelay']"
   ]
  },
  {
   "cell_type": "markdown",
   "metadata": {},
   "source": [
    "**13. (0.5 балла)** Обратите внимание, что признаки DepTime, CRSDepTime, ArrTime, CRSArrTime приведены в формате hhmm, в связи с чем будет не вполне корректно рассматривать их как вещественные.\n",
    "\n",
    "Преобразуйте каждый признак FeatureName из указанных в пару новых признаков FeatureName\\_Hour, FeatureName\\_Minute, разделив каждое из значений на часы и минуты. Не забудьте при этом исключить исходный признак из выборки. В случае, если значение признака отсутствует, значения двух новых признаков, его заменяющих, также должны отсутствовать. \n",
    "\n",
    "Например, признак DepTime необходимо заменить на пару признаков DepTime_Hour, DepTime_Minute. При этом, например, значение 155 исходного признака будет преобразовано в значения 1 и 55 признаков DepTime_Hour, DepTime_Minute соответственно."
   ]
  },
  {
   "cell_type": "code",
   "execution_count": 22,
   "metadata": {},
   "outputs": [
    {
     "name": "stdout",
     "output_type": "stream",
     "text": [
      "   Year  Month  DayofMonth  DayOfWeek UniqueCarrier  FlightNum TailNum  \\\n",
      "0  2008      6          18          3            WN        242  N699SW   \n",
      "1  2008      6           4          3            XE       2380  N15980   \n",
      "2  2008      8           3          7            WN       1769  N464WN   \n",
      "3  2008      1          23          3            OO       3802  N465SW   \n",
      "4  2008      5           4          7            WN        399  N489WN   \n",
      "\n",
      "   ActualElapsedTime  CRSElapsedTime  AirTime  ...  SecurityDelay  \\\n",
      "0               57.0            65.0     46.0  ...            NaN   \n",
      "1              124.0           138.0    108.0  ...            NaN   \n",
      "2              138.0           155.0    125.0  ...            NaN   \n",
      "3              102.0           111.0     79.0  ...            NaN   \n",
      "4              148.0           160.0    136.0  ...            NaN   \n",
      "\n",
      "   LateAircraftDelay DepTime_Hour DepTime_Minute  CRSDepTime_Hour  \\\n",
      "0                NaN         21.0           11.0             20.0   \n",
      "1                NaN         14.0           26.0             14.0   \n",
      "2                NaN         11.0           43.0             11.0   \n",
      "3                NaN         11.0           41.0             11.0   \n",
      "4                NaN          8.0           15.0              8.0   \n",
      "\n",
      "   CRSDepTime_Minute  ArrTime_Hour  ArrTime_Minute CRSArrTime_Hour  \\\n",
      "0               55.0          23.0             8.0            23.0   \n",
      "1               10.0          17.0            30.0            17.0   \n",
      "2               45.0          15.0             1.0            15.0   \n",
      "3               44.0          13.0            23.0            13.0   \n",
      "4               20.0          12.0            43.0            13.0   \n",
      "\n",
      "   CRSArrTime_Minute  \n",
      "0                0.0  \n",
      "1               28.0  \n",
      "2               20.0  \n",
      "3               35.0  \n",
      "4                0.0  \n",
      "\n",
      "[5 rows x 33 columns]\n"
     ]
    }
   ],
   "source": [
    "# Define a list of time-related features to be transformed\n",
    "time_features = ['DepTime', 'CRSDepTime', 'ArrTime', 'CRSArrTime']\n",
    "\n",
    "# Loop through each time-related feature and create new Hour and Minute features\n",
    "for feature in time_features:\n",
    "    # Create new feature names for Hour and Minute\n",
    "    hour_feature = feature + '_Hour'\n",
    "    minute_feature = feature + '_Minute'\n",
    "    \n",
    "    # Extract Hour and Minute components while handling missing values\n",
    "    df[hour_feature] = df[feature] // 100\n",
    "    df[minute_feature] = df[feature] % 100\n",
    "    \n",
    "    # Handle missing values in the new features\n",
    "    df.loc[df[feature].isnull(), [hour_feature, minute_feature]] = None\n",
    "    \n",
    "    # Drop the original time-related feature\n",
    "    df = df.drop(columns=[feature])\n",
    "\n",
    "# Print the first few rows of the updated DataFrame\n",
    "print(df.head())"
   ]
  },
  {
   "cell_type": "markdown",
   "metadata": {},
   "source": [
    "**14. (0.5 балла)** Некоторые из признаков, отличных от целевой переменной, могут оказывать чересчур значимое влияние на прогноз, поскольку по своему смыслу содержат большую долю информации о значении целевой переменной. Изучите описание датасета и исключите признаки, сильно коррелирующие с ответами. Ваш выбор признаков для исключения из выборки обоснуйте. Кроме того, исключите признаки TailNum и Year."
   ]
  },
  {
   "cell_type": "code",
   "execution_count": 23,
   "metadata": {},
   "outputs": [
    {
     "name": "stdout",
     "output_type": "stream",
     "text": [
      "Excluded Features with High Correlation to DepDelay:\n",
      "['DepDelay', 'ArrDelay', 'LateAircraftDelay', 'CarrierDelay', 'WeatherDelay', 'DepTime_Hour', 'NASDelay', 'CRSDepTime_Hour', 'CRSArrTime_Hour', 'TaxiOut']\n",
      "   Month  DayofMonth  DayOfWeek UniqueCarrier  FlightNum  ActualElapsedTime  \\\n",
      "0      6          18          3            WN        242               57.0   \n",
      "1      6           4          3            XE       2380              124.0   \n",
      "2      8           3          7            WN       1769              138.0   \n",
      "3      1          23          3            OO       3802              102.0   \n",
      "4      5           4          7            WN        399              148.0   \n",
      "\n",
      "   CRSElapsedTime  AirTime Origin Dest  ...  TaxiIn  Cancelled  \\\n",
      "0            65.0     46.0    MDW  CLE  ...     3.0          0   \n",
      "1           138.0    108.0    IAH  AVL  ...     4.0          0   \n",
      "2           155.0    125.0    MDW  TPA  ...     4.0          0   \n",
      "3           111.0     79.0    SLC  FCA  ...     4.0          0   \n",
      "4           160.0    136.0    LAS  AUS  ...     4.0          0   \n",
      "\n",
      "   CancellationCode Diverted  SecurityDelay  DepTime_Minute  \\\n",
      "0               NaN        0            NaN            11.0   \n",
      "1               NaN        0            NaN            26.0   \n",
      "2               NaN        0            NaN            43.0   \n",
      "3               NaN        0            NaN            41.0   \n",
      "4               NaN        0            NaN            15.0   \n",
      "\n",
      "   CRSDepTime_Minute  ArrTime_Hour  ArrTime_Minute  CRSArrTime_Minute  \n",
      "0               55.0          23.0             8.0                0.0  \n",
      "1               10.0          17.0            30.0               28.0  \n",
      "2               45.0          15.0             1.0               20.0  \n",
      "3               44.0          13.0            23.0               35.0  \n",
      "4               20.0          12.0            43.0                0.0  \n",
      "\n",
      "[5 rows x 21 columns]\n"
     ]
    }
   ],
   "source": [
    "# Exclude 'TailNum' and 'Year' features\n",
    "df = df.drop(columns=['TailNum', 'Year'])\n",
    "\n",
    "# Calculate correlation coefficients between numerical features and the target (DepDelay)\n",
    "correlations = df.corr()['DepDelay'].abs().sort_values(ascending=False)\n",
    "\n",
    "# Define a threshold for correlation significance\n",
    "correlation_threshold = 0.1  # Adjust this threshold as needed\n",
    "\n",
    "# Exclude features with high correlation to the target variable\n",
    "features_to_exclude = correlations[correlations >= correlation_threshold].index.tolist()\n",
    "df = df.drop(columns=features_to_exclude)\n",
    "\n",
    "# Print the list of excluded features\n",
    "print(\"Excluded Features with High Correlation to DepDelay:\")\n",
    "print(features_to_exclude)\n",
    "\n",
    "# Print the first few rows of the updated DataFrame\n",
    "print(df.head())"
   ]
  },
  {
   "cell_type": "markdown",
   "metadata": {},
   "source": [
    "**15. (1 балл)** Приведем данные к виду, пригодному для обучения линейных моделей. Для этого вещественные признаки надо отмасштабировать, а категориальные — привести к числовому виду. Также надо устранить пропуски в данных."
   ]
  },
  {
   "cell_type": "markdown",
   "metadata": {},
   "source": [
    "В первую очередь поймем, зачем необходимо применять масштабирование. Следующие ячейки с кодом построят гистограммы для 3 вещественных признаков выборки."
   ]
  },
  {
   "cell_type": "code",
   "execution_count": 26,
   "metadata": {},
   "outputs": [],
   "source": [
    "from sklearn.preprocessing import StandardScaler, OneHotEncoder\n",
    "from sklearn.impute import SimpleImputer\n",
    "from sklearn.compose import ColumnTransformer\n",
    "from sklearn.pipeline import Pipeline"
   ]
  },
  {
   "cell_type": "code",
   "execution_count": 32,
   "metadata": {},
   "outputs": [
    {
     "name": "stdout",
     "output_type": "stream",
     "text": [
      "Transformed Features (X):\n",
      "  (0, 0)\t1.6520829999285114\n",
      "  (0, 1)\t-0.7923178990574516\n",
      "  (0, 2)\t1.6607930587514452\n",
      "  (0, 3)\t-1.0046647230170445\n",
      "  (0, 21)\t1.0\n",
      "  (0, 201)\t1.0\n",
      "  (0, 381)\t1.0\n",
      "  (1, 0)\t0.2014669164044656\n",
      "  (1, 1)\t-0.5853576104815179\n",
      "  (1, 2)\t0.5024281523674128\n",
      "  (1, 3)\t0.08415589578035061\n",
      "  (1, 22)\t1.0\n",
      "  (1, 158)\t1.0\n",
      "  (1, 341)\t1.0\n",
      "  (2, 0)\t-0.3978387064237168\n",
      "  (2, 1)\t-0.5853576104815179\n",
      "  (2, 2)\t0.04349119118757982\n",
      "  (2, 3)\t-0.22700846253826887\n",
      "  (2, 21)\t1.0\n",
      "  (2, 201)\t1.0\n",
      "  (2, 603)\t1.0\n",
      "  (3, 0)\t-0.40207408185006444\n",
      "  (3, 1)\t-0.5853576104815179\n",
      "  (3, 2)\t-0.31323710178189734\n",
      "  (3, 3)\t0.808338739526794\n",
      "  (3, 18)\t1.0\n",
      "  (3, 287)\t1.0\n",
      "  (3, 422)\t1.0\n",
      "  (4, 0)\t-1.0924402763447199\n",
      "  (4, 1)\t-0.5853576104815179\n",
      "  (4, 2)\t-0.4735644244648084\n",
      "  (4, 3)\t-0.924709233236319\n",
      "  (4, 21)\t1.0\n",
      "  (4, 177)\t1.0\n",
      "  (4, 340)\t1.0\n",
      "\n",
      "Target (y):\n",
      "0    16.0\n",
      "1    16.0\n",
      "2    -2.0\n",
      "3    -3.0\n",
      "4    -5.0\n",
      "Name: DepDelay, dtype: float64\n"
     ]
    }
   ],
   "source": [
    "# Read the dataset from the CSV file\n",
    "df = pd.read_csv('2008.csv')\n",
    "\n",
    "# Drop 'TailNum' and 'Year' features as they are not needed\n",
    "df = df.drop(columns=['TailNum', 'Year'])\n",
    "\n",
    "# Define numerical and categorical features\n",
    "numerical_features = ['DepTime', 'TaxiIn', 'ArrTime', 'FlightNum']\n",
    "categorical_features = ['UniqueCarrier', 'Origin', 'Dest']\n",
    "\n",
    "# Create transformers for numerical and categorical features\n",
    "numerical_transformer = Pipeline(steps=[\n",
    "    ('imputer', SimpleImputer(strategy='median')),  # Impute missing values with median\n",
    "    ('scaler', StandardScaler())  # Standardize the features\n",
    "])\n",
    "\n",
    "categorical_transformer = Pipeline(steps=[\n",
    "    ('imputer', SimpleImputer(strategy='most_frequent')),  # Impute missing values with mode\n",
    "    ('onehot', OneHotEncoder(handle_unknown='ignore'))  # One-hot encode categorical features\n",
    "])\n",
    "\n",
    "# Combine transformers using ColumnTransformer\n",
    "preprocessor = ColumnTransformer(\n",
    "    transformers=[\n",
    "        ('num', numerical_transformer, numerical_features),\n",
    "        ('cat', categorical_transformer, categorical_features)\n",
    "    ])\n",
    "\n",
    "# Fit and transform the data using the preprocessor\n",
    "X = preprocessor.fit_transform(df.drop(columns=['DepDelay']))\n",
    "y = df['DepDelay']\n",
    "\n",
    "# Print the first few rows of the transformed features (X) and target (y)\n",
    "print(\"Transformed Features (X):\")\n",
    "print(X[:5])\n",
    "print(\"\\nTarget (y):\")\n",
    "print(y[:5])"
   ]
  },
  {
   "cell_type": "code",
   "execution_count": 33,
   "metadata": {},
   "outputs": [
    {
     "data": {
      "image/png": "[encoded data removed]",
      "text/plain": [
       "<Figure size 1080x288 with 3 Axes>"
      ]
     },
     "metadata": {
      "needs_background": "light"
     },
     "output_type": "display_data"
    }
   ],
   "source": [
    "import matplotlib.pyplot as plt\n",
    "import seaborn as sns\n",
    "import pandas as pd\n",
    "\n",
    "\n",
    "# Select three numerical features for visualization\n",
    "numerical_features = ['DepTime', 'TaxiIn', 'FlightNum']\n",
    "\n",
    "# Plot histograms of the original data\n",
    "plt.figure(figsize=(15, 4))\n",
    "for i, feature in enumerate(numerical_features):\n",
    "    plt.subplot(1, 3, i + 1)\n",
    "    sns.histplot(df[feature], bins=20, kde=True)\n",
    "    plt.title(f'Original {feature} Distribution')\n",
    "\n",
    "plt.tight_layout()\n",
    "plt.show()"
   ]
  },
  {
   "cell_type": "code",
   "execution_count": null,
   "metadata": {},
   "outputs": [],
   "source": [
    "X['DepTime_Hour'].hist(bins=20)"
   ]
  },
  {
   "cell_type": "code",
   "execution_count": null,
   "metadata": {},
   "outputs": [],
   "source": [
    "X['TaxiIn'].hist(bins=20)"
   ]
  },
  {
   "cell_type": "code",
   "execution_count": null,
   "metadata": {},
   "outputs": [],
   "source": [
    "X['FlightNum'].hist(bins=20)"
   ]
  },
  {
   "cell_type": "markdown",
   "metadata": {},
   "source": [
    "Какую проблему вы наблюдаете на этих графиках? Как масштабирование поможет её исправить?"
   ]
  },
  {
   "cell_type": "raw",
   "metadata": {},
   "source": []
  },
  {
   "cell_type": "markdown",
   "metadata": {},
   "source": [
    "Некоторые из признаков в нашем датасете являются категориальными. Типичным подходом к работе с ними является бинарное, или [one-hot-кодирование](https://en.wikipedia.org/wiki/One-hot).\n",
    "\n",
    "Реализуйте функцию transform_data, которая принимает на вход DataFrame с признаками и выполняет следующие шаги:\n",
    "1. Замена пропущенных значений на нули для вещественных признаков и на строки 'nan' для категориальных.\n",
    "2. Масштабирование вещественных признаков с помощью [StandardScaler](http://scikit-learn.org/stable/modules/generated/sklearn.preprocessing.StandardScaler.html).\n",
    "3. One-hot-кодирование категориальных признаков с помощью [DictVectorizer](http://scikit-learn.org/stable/modules/generated/sklearn.feature_extraction.DictVectorizer.html) или функции [pd.get_dummies](http://pandas.pydata.org/pandas-docs/stable/generated/pandas.get_dummies.html).\n",
    "\n",
    "Метод должен возвращать преобразованный DataFrame, который должна состоять из масштабированных вещественных признаков и закодированных категориальных (исходные признаки должны быть исключены из выборки)."
   ]
  },
  {
   "cell_type": "code",
   "execution_count": 1,
   "metadata": {},
   "outputs": [],
   "source": [
    "import pandas as pd\n",
    "from sklearn.preprocessing import StandardScaler\n",
    "from sklearn.feature_extraction import DictVectorizer"
   ]
  },
  {
   "cell_type": "code",
   "execution_count": 31,
   "metadata": {},
   "outputs": [],
   "source": [
    "df = pd.read_csv('2008.csv')"
   ]
  },
  {
   "cell_type": "code",
   "execution_count": 30,
   "metadata": {},
   "outputs": [],
   "source": [
    "import pandas as pd\n",
    "from sklearn.preprocessing import StandardScaler\n",
    "\n",
    "def transform_data(df):\n",
    "    # Step 1: Replace missing values with zeros for numerical features\n",
    "    numerical_features = df.select_dtypes(include=['float64', 'int64'])\n",
    "    df[numerical_features.columns] = numerical_features.fillna(0)\n",
    "\n",
    "    # Replace missing values with 'nan' for categorical features\n",
    "    categorical_features = df.select_dtypes(include=['object'])\n",
    "    df[categorical_features.columns] = categorical_features.fillna('nan')\n",
    "\n",
    "    # Step 2: Scale numerical features using StandardScaler\n",
    "    scaler = StandardScaler()\n",
    "    df[numerical_features.columns] = scaler.fit_transform(df[numerical_features.columns])\n",
    "\n",
    "    # Step 3: One-hot encode categorical features\n",
    "    df = pd.get_dummies(df, columns=categorical_features.columns)\n",
    "\n",
    "    return df"
   ]
  },
  {
   "cell_type": "markdown",
   "metadata": {},
   "source": [
    "Примените функцию transform_data к данным. Сколько признаков получилось после преобразования?"
   ]
  },
  {
   "cell_type": "code",
   "execution_count": 32,
   "metadata": {},
   "outputs": [
    {
     "name": "stdout",
     "output_type": "stream",
     "text": [
      "Number of features after transformation: 5765\n"
     ]
    }
   ],
   "source": [
    "transformed_df = transform_data(df)\n",
    "\n",
    "# Count the number of features (columns) in the transformed_data DataFrame\n",
    "num_features = transformed_df.shape[1]\n",
    "\n",
    "# Print the number of features\n",
    "print(\"Number of features after transformation:\", num_features)"
   ]
  },
  {
   "cell_type": "markdown",
   "metadata": {},
   "source": [
    "**16. (0.5 балла)** Разбейте выборку и вектор целевой переменной на обучение и контроль в отношении 70/30 (для этого можно использовать, например, функцию [train_test_split](http://scikit-learn.org/stable/modules/generated/sklearn.cross_validation.train_test_split.html)). "
   ]
  },
  {
   "cell_type": "code",
   "execution_count": 34,
   "metadata": {},
   "outputs": [],
   "source": [
    "from sklearn.model_selection import train_test_split\n",
    "\n",
    "\n",
    "X_train, X_test, y_train, y_test = train_test_split(transformed_df, df['DepDelay'], test_size=0.3, random_state=42)"
   ]
  },
  {
   "cell_type": "markdown",
   "metadata": {},
   "source": [
    "### Scikit-learn\n",
    "\n",
    "<img src = \"https://pp.vk.me/c4534/u35727827/93547647/x_d31c4463.jpg\">\n",
    "Теперь, когда мы привели данные к пригодному виду, попробуем решить задачу при помощи метода наименьших квадратов. Напомним, что данный метод заключается в оптимизации функционала $MSE$:\n",
    "\n",
    "$$MSE(X, y) = \\frac{1}{l} \\sum_{i=1}^l (<w, x_i> - y_i)^2 \\to \\min_{w},$$\n",
    "\n",
    "где $\\{ (x_i, y_i ) \\}_{i=1}^l$ — обучающая выборка, состоящая из $l$ пар объект-ответ.\n",
    "\n",
    "Заметим, что решение данной задачи уже реализовано в модуле sklearn в виде класса [LinearRegression](http://scikit-learn.org/stable/modules/generated/sklearn.linear_model.LinearRegression.html#sklearn.linear_model.LinearRegression).\n",
    "\n",
    "**17. (0.5 балла)** Обучите линейную регрессию на 1000 объектах из обучающей выборки и выведите значения $MSE$ и $R^2$ на этой подвыборке и контрольной выборке (итого 4 различных числа). Проинтерпретируйте полученный результат — насколько качественные прогнозы строит полученная модель? Какие проблемы наблюдаются в модели?\n",
    "\n",
    "**Подсказка**: изучите значения полученных коэффициентов $w$, сохраненных в атрибуте coef_ объекта LinearRegression."
   ]
  },
  {
   "cell_type": "code",
   "execution_count": 35,
   "metadata": {},
   "outputs": [
    {
     "name": "stdout",
     "output_type": "stream",
     "text": [
      "MSE on the training subset: 0.00\n",
      "R-squared on the training subset: 1.00\n",
      "MSE on the test set: 0.00\n",
      "R-squared on the test set: 1.00\n"
     ]
    }
   ],
   "source": [
    "from sklearn.linear_model import LinearRegression\n",
    "from sklearn.metrics import mean_squared_error, r2_score\n",
    "\n",
    "# Select 1000 samples from the training set\n",
    "X_train_subset = X_train[:1000]\n",
    "y_train_subset = y_train[:1000]\n",
    "\n",
    "# Initialize and train the linear regression model\n",
    "lr = LinearRegression()\n",
    "lr.fit(X_train_subset, y_train_subset)\n",
    "\n",
    "# Make predictions on the training subset\n",
    "y_train_subset_pred = lr.predict(X_train_subset)\n",
    "\n",
    "# Evaluate on the training subset\n",
    "mse_train_subset = mean_squared_error(y_train_subset, y_train_subset_pred)\n",
    "r2_train_subset = r2_score(y_train_subset, y_train_subset_pred)\n",
    "\n",
    "# Make predictions on the test set\n",
    "y_test_pred = lr.predict(X_test)\n",
    "\n",
    "# Evaluate on the test set\n",
    "mse_test = mean_squared_error(y_test, y_test_pred)\n",
    "r2_test = r2_score(y_test, y_test_pred)\n",
    "\n",
    "# Print the results\n",
    "print(f'MSE on the training subset: {mse_train_subset:.2f}')\n",
    "print(f'R-squared on the training subset: {r2_train_subset:.2f}')\n",
    "print(f'MSE on the test set: {mse_test:.2f}')\n",
    "print(f'R-squared on the test set: {r2_test:.2f}')"
   ]
  },
  {
   "cell_type": "markdown",
   "metadata": {
    "collapsed": true
   },
   "source": [
    "Для решения описанных вами в предыдущем пункте проблем используем L1- или L2-регуляризацию, тем самым получив Lasso и Ridge регрессии соответственно и изменив оптимизационную задачу одним из следующих образов:\n",
    "$$MSE_{L1}(X, y) = \\frac{1}{l} \\sum_{i=1}^l (<w, x_i> - y_i)^2 + \\alpha ||w||_1 \\to \\min_{w},$$\n",
    "$$MSE_{L2}(X, y) = \\frac{1}{l} \\sum_{i=1}^l (<w, x_i> - y_i)^2 + \\alpha ||w||_2^2 \\to \\min_{w},$$\n",
    "\n",
    "где $\\alpha$ — коэффициент регуляризации. Один из способов его подбора заключается в переборе некоторого количества значений и оценке качества на кросс-валидации для каждого из них, после чего выбирается значение, для которого было получено наилучшее качество."
   ]
  },
  {
   "cell_type": "code",
   "execution_count": 37,
   "metadata": {},
   "outputs": [
    {
     "name": "stdout",
     "output_type": "stream",
     "text": [
      "MSE on validation set: 0.00\n"
     ]
    }
   ],
   "source": [
    "from sklearn.linear_model import Ridge\n",
    "from sklearn.metrics import mean_squared_error\n",
    "from sklearn.model_selection import train_test_split, GridSearchCV\n",
    "\n",
    "# Split data into training and validation sets\n",
    "X_train, X_val, y_train, y_val = train_test_split(transformed_df, df['DepDelay'], test_size=0.3, random_state=42)\n",
    "\n",
    "# range of alpha values to test\n",
    "alpha_values = [0.01, 0.1, 1.0, 10.0]\n",
    "\n",
    "# Ridge regression model\n",
    "ridge = Ridge()\n",
    "\n",
    "# Perform grid search to find the best alpha value\n",
    "param_grid = {'alpha': alpha_values}\n",
    "grid_search = GridSearchCV(ridge, param_grid, cv=5, scoring='neg_mean_squared_error')\n",
    "grid_search.fit(X_train, y_train)\n",
    "\n",
    "# Get the best alpha value\n",
    "best_alpha = grid_search.best_params_['alpha']\n",
    "\n",
    "# Train Ridge regression model with the best alpha\n",
    "ridge = Ridge(alpha=best_alpha)\n",
    "ridge.fit(X_train, y_train)\n",
    "\n",
    "# Evaluate the model on the validation set\n",
    "y_val_pred = ridge.predict(X_val)\n",
    "mse_val = mean_squared_error(y_val, y_val_pred)\n",
    "print(f'MSE on validation set: {mse_val:.2f}')"
   ]
  },
  {
   "cell_type": "markdown",
   "metadata": {},
   "source": [
    "__18. (1 балл) __ Обучение линейной регрессии.\n",
    "\n",
    "\n",
    "\n",
    "Обучите линейную регрессию с $L_1$ (Lasso) и $L_2$ (Ridge) регуляризаторами (используйте параметры по умолчанию). Посмотрите, какое количество коэффициентов близко к 0 (степень близости к 0 определите сами из разумных пределов). Постройте график зависимости числа ненулевых коэффициентов от коэффицента регуляризации (перебирайте значения по логарифмической сетке от $10^{-3}$ до $10^3$). Согласуются ли результаты с вашими ожиданиями?"
   ]
  },
  {
   "cell_type": "code",
   "execution_count": 38,
   "metadata": {},
   "outputs": [
    {
     "data": {
      "image/png": "[encoded data removed]",
      "text/plain": [
       "<Figure size 720x432 with 1 Axes>"
      ]
     },
     "metadata": {
      "needs_background": "light"
     },
     "output_type": "display_data"
    }
   ],
   "source": [
    "import numpy as np\n",
    "import matplotlib.pyplot as plt\n",
    "from sklearn.linear_model import Lasso, Ridge\n",
    "\n",
    "# Define a range of alpha values in a logarithmic scale\n",
    "alphas = np.logspace(-3, 3, 100)\n",
    "\n",
    "# Initialize lists to store the number of non-zero coefficients for Lasso and Ridge\n",
    "lasso_non_zero_coeffs = []\n",
    "ridge_non_zero_coeffs = []\n",
    "\n",
    "# Iterate through alpha values and count non-zero coefficients for each model\n",
    "for alpha in alphas:\n",
    "    lasso = Lasso(alpha=alpha)\n",
    "    lasso.fit(X_train, y_train)\n",
    "    num_non_zero_coeffs_lasso = np.sum(np.abs(lasso.coef_) > 1e-4)\n",
    "    lasso_non_zero_coeffs.append(num_non_zero_coeffs_lasso)\n",
    "    \n",
    "    ridge = Ridge(alpha=alpha)\n",
    "    ridge.fit(X_train, y_train)\n",
    "    num_non_zero_coeffs_ridge = np.sum(np.abs(ridge.coef_) > 1e-4)\n",
    "    ridge_non_zero_coeffs.append(num_non_zero_coeffs_ridge)\n",
    "\n",
    "# Plot the results\n",
    "plt.figure(figsize=(10, 6))\n",
    "plt.semilogx(alphas, lasso_non_zero_coeffs, label='Lasso', marker='o')\n",
    "plt.semilogx(alphas, ridge_non_zero_coeffs, label='Ridge', marker='s')\n",
    "plt.xlabel('Alpha (Regularization Strength)')\n",
    "plt.ylabel('Number of Non-zero Coefficients')\n",
    "plt.title('Number of Non-zero Coefficients vs. Alpha')\n",
    "plt.legend()\n",
    "plt.grid(True)\n",
    "plt.show()"
   ]
  },
  {
   "cell_type": "markdown",
   "metadata": {},
   "source": [
    "Посчитайте для Ridge-регрессии следующие метрики: $RMSE$, $MAE$, $R^2$."
   ]
  },
  {
   "cell_type": "code",
   "execution_count": 39,
   "metadata": {},
   "outputs": [
    {
     "name": "stdout",
     "output_type": "stream",
     "text": [
      "RMSE: 0.05\n",
      "MAE: 0.03\n",
      "R2: 1.00\n"
     ]
    }
   ],
   "source": [
    "from sklearn.metrics import mean_squared_error, mean_absolute_error, r2_score\n",
    "\n",
    "# Make predictions on the test data\n",
    "y_pred = ridge.predict(X_test)\n",
    "\n",
    "# Calculate RMSE\n",
    "rmse = np.sqrt(mean_squared_error(y_test, y_pred))\n",
    "\n",
    "# Calculate MAE\n",
    "mae = mean_absolute_error(y_test, y_pred)\n",
    "\n",
    "# Calculate R2\n",
    "r2 = r2_score(y_test, y_pred)\n",
    "\n",
    "print(f'RMSE: {rmse:.2f}')\n",
    "print(f'MAE: {mae:.2f}')\n",
    "print(f'R2: {r2:.2f}')"
   ]
  },
  {
   "cell_type": "markdown",
   "metadata": {},
   "source": [
    "Подберите на обучающей выборке для Ridge-регрессии коэффициент регуляризации (перебирайте значения по логарифмической сетке от $10^{-3}$ до $10^3$) для каждой из метрик при помощи кросс-валидации c 5 фолдами на тех же 1000 объектах. Для этого воспользуйтесь GridSearchCV и KFold из sklearn. Постройте графики зависимости фукнции потерь от коэффициента регуляризации. Посчитайте те же метрики снова. Заметно ли изменилось качество?\n",
    "\n",
    "Для выполнения данного задания вам могут понадобиться реализованные в библиотеке объекты [LassoCV](http://scikit-learn.org/stable/modules/generated/sklearn.linear_model.LassoCV.html), [RidgeCV](http://scikit-learn.org/stable/modules/generated/sklearn.linear_model.RidgeCV.html) и [KFold](http://scikit-learn.org/stable/modules/generated/sklearn.cross_validation.KFold.html)."
   ]
  },
  {
   "cell_type": "code",
   "execution_count": 42,
   "metadata": {},
   "outputs": [
    {
     "name": "stdout",
     "output_type": "stream",
     "text": [
      "Fitting 5 folds for each of 100 candidates, totalling 500 fits\n"
     ]
    },
    {
     "data": {
      "image/png": "[encoded data removed]",
      "text/plain": [
       "<Figure size 720x432 with 1 Axes>"
      ]
     },
     "metadata": {
      "needs_background": "light"
     },
     "output_type": "display_data"
    },
    {
     "name": "stdout",
     "output_type": "stream",
     "text": [
      "Optimal Alpha: 0.0010\n",
      "RMSE: 0.00\n",
      "MAE: 0.00\n",
      "R2: 1.00\n"
     ]
    }
   ],
   "source": [
    "from sklearn.model_selection import GridSearchCV, KFold\n",
    "\n",
    "# Define a range of alpha values in a logarithmic scale\n",
    "alphas = np.logspace(-3, 3, 100)\n",
    "\n",
    "# Create Ridge regression model\n",
    "ridge = Ridge()\n",
    "\n",
    "# Create a parameter grid with alpha values\n",
    "param_grid = {'alpha': alphas}\n",
    "\n",
    "# Create GridSearchCV with 5-fold cross-validation\n",
    "grid_search = GridSearchCV(ridge, param_grid, cv=KFold(n_splits=5, shuffle=True, random_state=42),\n",
    "                           scoring='neg_mean_squared_error', verbose=1, n_jobs=-1)\n",
    "\n",
    "# Fit the GridSearchCV model on the training data\n",
    "grid_search.fit(X_train[:1000], y_train[:1000])  # Using 1000 objects as specified\n",
    "\n",
    "# Get the best alpha from GridSearchCV\n",
    "best_alpha = grid_search.best_params_['alpha']\n",
    "\n",
    "# Plot the loss function (negative mean squared error) against alpha\n",
    "plt.figure(figsize=(10, 6))\n",
    "plt.semilogx(alphas, -grid_search.cv_results_['mean_test_score'], marker='o')\n",
    "plt.xlabel('Alpha (Regularization Strength)')\n",
    "plt.ylabel('Negative Mean Squared Error')\n",
    "plt.title('Loss Function vs. Alpha for Ridge Regression')\n",
    "plt.grid(True)\n",
    "plt.show()\n",
    "\n",
    "# Re-train Ridge regression with the optimal alpha on the entire training data\n",
    "ridge = Ridge(alpha=best_alpha)\n",
    "ridge.fit(X_train, y_train)\n",
    "\n",
    "# Evaluate the model on the test set\n",
    "y_pred = ridge.predict(X_test)\n",
    "rmse = np.sqrt(mean_squared_error(y_test, y_pred))\n",
    "mae = mean_absolute_error(y_test, y_pred)\n",
    "r2 = r2_score(y_test, y_pred)\n",
    "\n",
    "print(f'Optimal Alpha: {best_alpha:.4f}')\n",
    "print(f'RMSE: {rmse:.2f}')\n",
    "print(f'MAE: {mae:.2f}')\n",
    "print(f'R2: {r2:.2f}')"
   ]
  },
  {
   "cell_type": "markdown",
   "metadata": {
    "collapsed": true
   },
   "source": [
    "__19. (0.5 балла)__ Поиск объектов-выбросов\n",
    "\n",
    "\n",
    "Как известно, MSE сильно штрафует за большие ошибки на объектах-выбросах. С помощью cross_val_predict сделайте Out-of-Fold предсказания для обучающей выборки. Посчитайте ошибки и посмотрите на их распределение (plt.hist). Что вы видите?"
   ]
  },
  {
   "cell_type": "code",
   "execution_count": 43,
   "metadata": {},
   "outputs": [
    {
     "data": {
      "image/png": "[encoded data removed]",
      "text/plain": [
       "<Figure size 720x432 with 1 Axes>"
      ]
     },
     "metadata": {
      "needs_background": "light"
     },
     "output_type": "display_data"
    }
   ],
   "source": [
    "from sklearn.model_selection import cross_val_predict\n",
    "\n",
    "\n",
    "# Perform cross-validated predictions on the training data\n",
    "y_train_pred = cross_val_predict(ridge, X_train, y_train, cv=5)\n",
    "\n",
    "# Calculate the errors\n",
    "errors = y_train - y_train_pred\n",
    "\n",
    "# Plot the distribution of errors\n",
    "plt.figure(figsize=(10, 6))\n",
    "plt.hist(errors, bins=50, edgecolor='k')\n",
    "plt.xlabel('Prediction Errors')\n",
    "plt.ylabel('Frequency')\n",
    "plt.title('Distribution of Prediction Errors')\n",
    "plt.grid(True)\n",
    "plt.show()"
   ]
  },
  {
   "cell_type": "code",
   "execution_count": null,
   "metadata": {},
   "outputs": [],
   "source": []
  }
 ],
 "metadata": {
  "kernelspec": {
   "display_name": "Python 3 (ipykernel)",
   "language": "python",
   "name": "python3"
  },
  "language_info": {
   "codemirror_mode": {
    "name": "ipython",
    "version": 3
   },
   "file_extension": ".py",
   "mimetype": "text/x-python",
   "name": "python",
   "nbconvert_exporter": "python",
   "pygments_lexer": "ipython3",
   "version": "3.10.9"
  }
 },
 "nbformat": 4,
 "nbformat_minor": 1
}
